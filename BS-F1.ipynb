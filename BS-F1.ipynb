{
 "cells": [
  {
   "cell_type": "markdown",
   "id": "06ccd525-4248-4ffd-a742-6ad01251582e",
   "metadata": {},
   "source": [
    "# Desafiando los Límites de la Velocidad: Descubriendo las Historias Detrás de Seis Décadas de Carreras de Fórmula 1 y sus Circuitos Legendarios"
   ]
  },
  {
   "cell_type": "markdown",
   "id": "c0d674a9-dcf9-4492-b308-eabfe79c81b6",
   "metadata": {},
   "source": [
    "---\n",
    "<summary>\n",
    "    <font size=\"5\"> Maestría en Ciencias de Datos </font>\n",
    "</summary>\n",
    "<summary>\n",
    "    <font size=\"5\"> Universidad de Sonora </font>\n",
    "</summary>\n",
    "<br>\n",
    "<summary>\n",
    "    <font size=\"4\"> Propedeutico: Bases de datos </font> \n",
    "</summary>\n",
    "<summary>\n",
    "    <font size=\"4\"> Profesor: Dr. Juan Pablo Soto Barrera </font>\n",
    "</summary>\n",
    "<summary>\n",
    "    <font size=\"4\"> Alumna: Vesna Camile Pivac Alcaraz </font>\n",
    "</summary>\n",
    "\n",
    "---"
   ]
  },
  {
   "cell_type": "markdown",
   "id": "ac14f6ce-5d6d-4488-bd32-b8e331be1cf3",
   "metadata": {},
   "source": [
    "## Introducción"
   ]
  },
  {
   "cell_type": "markdown",
   "id": "56aae974-5abe-4841-9b1a-6979e7ada385",
   "metadata": {},
   "source": [
    "La Fórmula 1, conocida como el pináculo del automovilismo, ha sido un escenario de emociones intensas, competencia feroz y innovación tecnológica desde su inicio en la década de 1950. A lo largo de las décadas, la Fórmula 1 ha visto a algunos de los mejores pilotos del mundo competir en los circuitos más desafiantes, proporcionando un espectáculo emocionante para los aficionados al deporte en todo el mundo.\n",
    "\n",
    "En este análisis, exploraremos un conjunto de datos que abarca más de seis décadas de carreras de Fórmula 1, desde los años 1950 hasta 2017. Este conjunto de datos, basado en el trabajo de ChrisG, ofrece una visión detallada de las carreras, los pilotos, los equipos y los resultados a lo largo de los años.\n",
    "\n",
    "Nuestro objetivo es descubrir patrones y tendencias en los datos que puedan arrojar luz sobre la evolución de este deporte apasionante. Examinaremos aspectos como el rendimiento de los pilotos y los equipos, la influencia de los factores tecnológicos y estratégicos en los resultados de las carreras, y cómo han cambiado estas variables a lo largo del tiempo.\n",
    "\n",
    "Al sumergirnos en este análisis, esperamos proporcionar una visión fascinante de la rica historia de la Fórmula 1 y ofrecer una nueva perspectiva sobre lo que hace que este deporte sea tan emocionante y atractivo. Ya sea que seas un fanático de la Fórmula 1 de toda la vida o simplemente tengas curiosidad por aprender más sobre este deporte, esperamos que encuentres este análisis tanto informativo como interesante. ¡Arranquemos nuestros motores y comencemos la carrera!"
   ]
  },
  {
   "cell_type": "markdown",
   "id": "87980740-d062-4722-8c0d-27e5cb21fdfe",
   "metadata": {},
   "source": [
    "## Modelo Entidad-Relación"
   ]
  },
  {
   "cell_type": "markdown",
   "id": "49c151dc-9b50-40b6-927a-68775774677e",
   "metadata": {},
   "source": [
    "<center><img src=https://github.com/VesnaPivac/Analisis_Formula1/blob/main/Images/Modelo-EntidadRelacion.png?raw=true width=600></center>"
   ]
  },
  {
   "cell_type": "markdown",
   "id": "c022d3b7-c831-4a2e-ad30-5df8d4cc22fa",
   "metadata": {},
   "source": [
    "En el corazón de nuestra base de datos \"Formula1\", se encuentra un modelo de Entidad-Relación meticulosamente diseñado que consta de cuatro entidades fundamentales, también conocidas como tablas. Este modelo proporciona una representación visual clara de cómo estas entidades interactúan y se conectan entre sí.\n",
    "\n",
    "Primero, tenemos la entidad \"circuits\", que establece una relación con la entidad \"races\". Esta relación se materializa a través de una llave foránea en la tabla \"races\", que se utiliza para vincular cada carrera a un circuito específico. Es importante destacar que, aunque cada carrera está asociada a un único circuito, un circuito puede ser el escenario de múltiples carreras a lo largo del tiempo. Esto se traduce en una relación de uno a muchos entre \"circuits\" y \"races\".\n",
    "\n",
    "En segundo lugar, la entidad \"races\" también se relaciona con la entidad \"results\". En este caso, cada carrera puede generar múltiples resultados, uno por cada participante. Sin embargo, cada resultado está vinculado a una única carrera. Por lo tanto, esta es otra relación de uno a muchos, que se implementa mediante el uso de una llaves foránea en la tabla \"results\".\n",
    "\n",
    "Finalmente, existe una relación entre las entidades \"drivers\" y \"results\". Cada conductor puede tener muchos resultados a lo largo de su carrera, pero cada resultado está asociado a un único conductor. Esta relación de uno a muchos se establece mediante el uso de la clave foránea \"driverId\" en la tabla \"results\"."
   ]
  },
  {
   "cell_type": "markdown",
   "id": "f5f933eb-f718-4d33-bf74-289063d7d6d3",
   "metadata": {},
   "source": [
    "## Visualización de datos"
   ]
  },
  {
   "cell_type": "markdown",
   "id": "f7d6f509-2db3-4b49-8195-69d7d0c10080",
   "metadata": {},
   "source": [
    "En esta sección, nos adentraremos en la fascinante tarea de visualizar los datos de las entidades clave de nuestra base de datos de Fórmula 1: corredores, carreras, resultados y circuitos haciendo las siguientes consultas:\n",
    "``` sql\n",
    "SELECT * FROM circuits LIMIT 3;\n",
    "```\n",
    "\n",
    "<center><img src=https://github.com/VesnaPivac/Analisis_Formula1/blob/main/Images/circuits-limit3.png?raw=true width=500></center>\n",
    "\n",
    "``` sql\n",
    "SELECT * FROM drivers LIMIT 5;\n",
    "```\n",
    "\n",
    "<center><img src=https://github.com/VesnaPivac/Analisis_Formula1/blob/main/Images/drivers-limit5.png?raw=true width=600></center>\n",
    "\n",
    "``` sql\n",
    "SELECT * FROM races LIMIT 10;\n",
    "```\n",
    "\n",
    "<center><img src=https://github.com/VesnaPivac/Analisis_Formula1/blob/main/Images/races-limit10.png?raw=true width=600></center>\n",
    "\n",
    "``` sql\n",
    "SELECT * FROM results LIMIT 5;\n",
    "```\n",
    "\n",
    "<center><img src=https://github.com/VesnaPivac/Analisis_Formula1/blob/main/Images/results-limit5-p1.png?raw=true width=600><img src=https://github.com/VesnaPivac/Analisis_Formula1/blob/main/Images/results-limit5-p2.png?raw=true width=78></center>"
   ]
  },
  {
   "cell_type": "markdown",
   "id": "3b9cfc36-062a-4b57-9ec8-f8322e8d886d",
   "metadata": {},
   "source": [
    "## Cantidad de circuitos, carreras y conductores"
   ]
  },
  {
   "cell_type": "markdown",
   "id": "af578d24-b3af-4096-9934-3a2a4a72de31",
   "metadata": {},
   "source": [
    "En esta sección, realizaremos un análisis cuantitativo de los datos de nuestra base de datos de Fórmula 1, centrándonos en tres elementos fundamentales: corredores, carreras y circuitos. Utilizaremos consultas de recuento para obtener una visión general de la cantidad de registros presentes en cada una de estas entidades.\n",
    "\n",
    "Exploraremos el número total de corredores registrados en nuestra base de datos, lo que nos brindará una visión cuantitativa de la participación de los corredores en las carreras de Fórmula 1 a lo largo del tiempo.\n",
    "\n",
    "Además, analizaremos el recuento total de carreras registradas, lo que nos permitirá comprender la cantidad de carreras que se han llevado a cabo y la evolución del deporte a lo largo de los años.\n",
    "\n",
    "Finalmente, nos centraremos en los circuitos utilizados en las carreras de Fórmula 1, obteniendo el recuento total de circuitos presentes en nuestra base de datos. Esto nos brindará información sobre la variedad y la cantidad de circuitos que han sido parte integral del campeonato."
   ]
  },
  {
   "cell_type": "markdown",
   "id": "87efa732-fbaa-45e1-b2b7-03256b22589a",
   "metadata": {},
   "source": [
    "``` sql\n",
    "select count(*) from circuits;\n",
    "```\n",
    "<center><img src=https://github.com/VesnaPivac/Analisis_Formula1/blob/main/Images/count-circuits.png?raw=true></center>\n",
    "\n",
    "``` sql\n",
    "select count(*) from races;\n",
    "```\n",
    "<center><img src=https://github.com/VesnaPivac/Analisis_Formula1/blob/main/Images/count-races.png?raw=true></center>\n",
    "\n",
    "\n",
    "``` sql\n",
    "select count(*) from drivers;\n",
    "```\n",
    "\n",
    "<center><img src=https://github.com/VesnaPivac/Analisis_Formula1/blob/main/Images/count-drivers.png?raw=true></center>\n"
   ]
  },
  {
   "cell_type": "markdown",
   "id": "5c4553e1-22d9-4127-ba7b-6d6819dd8777",
   "metadata": {},
   "source": [
    "## Uniendo Tablas para Descubrir las Carreras en Bahrain: Un Enfoque con Inner Join"
   ]
  },
  {
   "cell_type": "markdown",
   "id": "7d4265ab-70a3-4c24-bace-daec78fe9027",
   "metadata": {},
   "source": [
    "La consulta SQL que estamos analizando tiene como objetivo extraer información de las tablas \"races\" y \"circuits\". Comienza seleccionando todas las columnas de ambas tablas y luego procede a unir estas dos tablas en base a una columna común, el \"circuitId\". Esta unión permite combinar información relevante de ambas tablas en un solo conjunto de datos.\n",
    "\n",
    "Una vez que las tablas están unidas, la consulta se enfoca en filtrar los resultados. En este caso, estamos interesados en las filas donde el \"circuitId\" en la tabla \"circuits\" es igual a 3. Este filtro nos permite centrarnos en los datos específicos que son relevantes para nuestro análisis.\n",
    "\n",
    "Finalmente, para mantener el conjunto de resultados manejable, la consulta limita el número de filas devueltas a las primeras 10 que cumplen con las condiciones especificadas. En resumen, esta consulta nos proporciona un subconjunto de datos específicos de las tablas \"races\" y \"circuits\", centrándose en las carreras que se llevaron a cabo en el circuito con el ID 3 y limitando los resultados a las primeras 10 carreras que cumplen con este criterio."
   ]
  },
  {
   "cell_type": "markdown",
   "id": "3e19b92b-2472-4e6c-956b-50329a06d832",
   "metadata": {},
   "source": [
    "\n",
    "```sql\n",
    "SELECT *\n",
    "FROM races\n",
    "INNER JOIN circuits\n",
    "ON races.circuitId = circuits.circuitId\n",
    "WHERE circuits.circuitId = 3\n",
    "LIMIT 10;\n",
    "```\n",
    "<center><img src=https://github.com/VesnaPivac/Analisis_Formula1/blob/main/Images/innerjoin1.png?raw=true width=600><img src=https://github.com/VesnaPivac/Analisis_Formula1/blob/main/Images/innerjoin2.png?raw=true width=600></center>"
   ]
  },
  {
   "cell_type": "markdown",
   "id": "bc93dc66-d2cd-4a37-8649-bd8371d9b320",
   "metadata": {},
   "source": [
    "Ahora utilizaremos este query de sql para saber cuantas carreras hay con el circuito de Bahrain el cual tiene el circuitId igual a 3.\n",
    "```sql\n",
    "SELECT count(*)\n",
    "FROM races\n",
    "INNER JOIN circuits\n",
    "ON races.circuitId = circuits.circuitId\n",
    "WHERE circuits.circuitId = 3;\n",
    "```\n",
    "<center><img src=https://github.com/VesnaPivac/Analisis_Formula1/blob/main/Images/count-bahrain.png?raw=true></center>"
   ]
  },
  {
   "cell_type": "markdown",
   "id": "2739b996-a9bf-4f33-8f88-af11d19bd302",
   "metadata": {},
   "source": [
    "## Análisis de la Frecuencia de Carreras por Circuito en la Fórmula 1"
   ]
  },
  {
   "cell_type": "markdown",
   "id": "4945c182-fbfb-43de-b4bc-c1daff9fb99e",
   "metadata": {},
   "source": [
    "En el análisis de datos de las carreras de Fórmula 1, es esencial entender la distribución de las carreras entre los diferentes circuitos. Cada circuito tiene características únicas que pueden influir en el rendimiento de los pilotos y los equipos, y por lo tanto, el número de carreras que se han celebrado en cada circuito puede tener implicaciones significativas en las estrategias de los equipos y los pilotos.\n",
    "\n",
    "La consulta SQL que estamos realizando tiene como objetivo identificar los 10 circuitos que han albergado la mayor cantidad de carreras en la historia de la Fórmula 1. Esto se logra contando el número de carreras asociadas a cada circuitId en la tabla \"races\", y luego ordenando estos conteos en orden descendente. El resultado de esta consulta nos proporcionará una lista de los 10 circuitos más frecuentados, junto con el número exacto de carreras que se han celebrado en cada uno.\n",
    "\n",
    "Este análisis puede proporcionar información valiosa para una variedad de propósitos. Por ejemplo, puede ayudar a los equipos a planificar sus estrategias de entrenamiento y desarrollo de coches, ya que los circuitos que albergan más carreras pueden requerir una atención especial. Además, puede ser útil para los organizadores de carreras y los patrocinadores para entender qué circuitos son los más prominentes en el deporte. Por último, puede ser de interés para los aficionados que quieran entender más sobre la historia y la geografía de las carreras de Fórmula 1."
   ]
  },
  {
   "cell_type": "markdown",
   "id": "1737ab8a-e92c-4f8f-b377-c4e3993ded4a",
   "metadata": {},
   "source": [
    "```sql\n",
    "SELECT races.circuitId, circuits.name, COUNT(*)\n",
    "FROM races\n",
    "INNER JOIN circuits ON races.circuitId = circuits.circuitId\n",
    "GROUP BY races.circuitId, circuits.name;\n",
    "```\n",
    "<center><img src=https://github.com/VesnaPivac/Analisis_Formula1/blob/main/Images/count-circuits1.png?raw=true width=300><img src=https://github.com/VesnaPivac/Analisis_Formula1/blob/main/Images/count-circuits2.png?raw=true width=300></center>\n",
    "<center><img src=https://github.com/VesnaPivac/Analisis_Formula1/blob/main/Images/count-circuits3.png?raw=true width=300><img src=https://github.com/VesnaPivac/Analisis_Formula1/blob/main/Images/count-circuits4.png?raw=true width=300></center>\n",
    "<center><img src=https://github.com/VesnaPivac/Analisis_Formula1/blob/main/Images/count-circuits5.png?raw=true width=300></center>"
   ]
  },
  {
   "cell_type": "markdown",
   "id": "5a824a73-62ad-4359-b90f-c752bb585073",
   "metadata": {},
   "source": [
    "```sql\n",
    "SELECT races.circuitId, circuits.name, COUNT(*) AS num_races\n",
    "FROM races\n",
    "INNER JOIN circuits ON races.circuitId = circuits.circuitId\n",
    "GROUP BY races.circuitId, circuits.name\n",
    "ORDER BY num_races DESC\n",
    "LIMIT 10;\n",
    "```\n",
    "<center><img src=https://github.com/VesnaPivac/Analisis_Formula1/blob/main/Images/top10-circuits.png?raw=true width=300></center>"
   ]
  },
  {
   "cell_type": "markdown",
   "id": "b5fa4b8b-efec-4d54-8926-62474d9aee65",
   "metadata": {},
   "source": [
    "## Conclusión"
   ]
  },
  {
   "cell_type": "markdown",
   "id": "18a798fc-c352-4b0b-9881-661c4d707a99",
   "metadata": {},
   "source": [
    "En el transcurso de nuestro análisis de los datos de las carreras de Fórmula 1, hemos descubierto una serie de hallazgos interesantes. A pesar de que el circuito de Bahrain ha albergado un total de 14 carreras, no se encuentra entre los diez circuitos que han acogido la mayor cantidad de carreras. Esto nos proporciona una perspectiva sobre la frecuencia de las carreras en este circuito en comparación con otros.\n",
    "\n",
    "El circuito que ha albergado la mayor cantidad de carreras es el Autodromo Nazionale di Monza, con un impresionante total de 68 carreras. Le sigue de cerca el Circuit de Monaco, que ha sido el escenario de 65 carreras. En el extremo inferior del top 10, encontramos al Suzuka Circuit, que ha albergado 30 carreras. Estos hallazgos nos proporcionan una visión clara de los circuitos más prominentes en la historia de la Fórmula 1.\n",
    "\n",
    "Además, gracias a las capacidades de SQL, hemos podido determinar que existen 73 circuitos únicos en nuestro conjunto de datos. A lo largo de los años, estos circuitos han albergado un total de 997 carreras, en las que han participado 842 conductores diferentes. Estos números subrayan la escala y la diversidad de las carreras de Fórmula 1, y nos proporcionan una apreciación más profunda de este deporte.\n",
    "\n",
    "En conclusión, nuestro análisis ha revelado una serie de insights valiosos sobre las carreras de Fórmula 1. A través de la exploración de los datos y la aplicación de técnicas de SQL, hemos podido entender mejor la distribución de las carreras entre los diferentes circuitos, y hemos obtenido una visión más clara de la historia y la evolución de este emocionante deporte."
   ]
  }
 ],
 "metadata": {
  "kernelspec": {
   "display_name": "Python 3 (ipykernel)",
   "language": "python",
   "name": "python3"
  },
  "language_info": {
   "codemirror_mode": {
    "name": "ipython",
    "version": 3
   },
   "file_extension": ".py",
   "mimetype": "text/x-python",
   "name": "python",
   "nbconvert_exporter": "python",
   "pygments_lexer": "ipython3",
   "version": "3.10.9"
  }
 },
 "nbformat": 4,
 "nbformat_minor": 5
}
